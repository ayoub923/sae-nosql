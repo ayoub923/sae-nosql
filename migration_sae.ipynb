{
 "cells": [
  {
   "cell_type": "markdown",
   "id": "0439f15b",
   "metadata": {},
   "source": [
    "# Script - Migration des données\n",
    "## Ayoub Errhamani - Rachid Sahli\n",
    "### BUT SD FA EMS 32 - SAE NoSQL"
   ]
  },
  {
   "cell_type": "markdown",
   "id": "2577a130",
   "metadata": {},
   "source": [
    "### Installation et import des librairies"
   ]
  },
  {
   "cell_type": "code",
   "execution_count": null,
   "id": "8f78c252",
   "metadata": {},
   "outputs": [],
   "source": [
    "pip install pymongo pandas "
   ]
  },
  {
   "cell_type": "code",
   "execution_count": 37,
   "id": "ca264b68-d8e0-4072-be93-8e3d2046d31b",
   "metadata": {},
   "outputs": [],
   "source": [
    "import sqlite3\n",
    "import pymongo\n",
    "import pandas as pd"
   ]
  },
  {
   "cell_type": "markdown",
   "id": "0f7283d9",
   "metadata": {},
   "source": [
    "### Connexion à la base de données SQL"
   ]
  },
  {
   "cell_type": "code",
   "execution_count": 38,
   "id": "94e92f77-8992-4b48-a4c2-2cda1f8d60e4",
   "metadata": {},
   "outputs": [],
   "source": [
    "client = pymongo.MongoClient()\n",
    "db = client.classicmodel\n",
    "conn = sqlite3.connect(\"/Users/rs777/Documents/Iut/projets but stid/2024-2025/sae_nosql/ClassicModel.sqlite\") # Connexion à la base de données"
   ]
  },
  {
   "cell_type": "markdown",
   "id": "2f55e053-dbf0-4f89-825e-f6e7e733fbeb",
   "metadata": {},
   "source": [
    "### Migration de la table *Orders*,*Ordersdetail* et *Products*"
   ]
  },
  {
   "cell_type": "code",
   "execution_count": 39,
   "id": "e9c9908c-9e6a-42d9-a1d0-7acc9332d36e",
   "metadata": {},
   "outputs": [
    {
     "data": {
      "text/html": [
       "<div>\n",
       "<style scoped>\n",
       "    .dataframe tbody tr th:only-of-type {\n",
       "        vertical-align: middle;\n",
       "    }\n",
       "\n",
       "    .dataframe tbody tr th {\n",
       "        vertical-align: top;\n",
       "    }\n",
       "\n",
       "    .dataframe thead th {\n",
       "        text-align: right;\n",
       "    }\n",
       "</style>\n",
       "<table border=\"1\" class=\"dataframe\">\n",
       "  <thead>\n",
       "    <tr style=\"text-align: right;\">\n",
       "      <th></th>\n",
       "      <th>orderNumber</th>\n",
       "      <th>orderDate</th>\n",
       "      <th>requiredDate</th>\n",
       "      <th>shippedDate</th>\n",
       "      <th>status</th>\n",
       "      <th>comments</th>\n",
       "      <th>customerNumber</th>\n",
       "      <th>orderDetails</th>\n",
       "    </tr>\n",
       "  </thead>\n",
       "  <tbody>\n",
       "    <tr>\n",
       "      <th>0</th>\n",
       "      <td>10100</td>\n",
       "      <td>2003/1/6 0:00:00</td>\n",
       "      <td>2003/1/13 0:00:00</td>\n",
       "      <td>2003/1/10 0:00:00</td>\n",
       "      <td>Shipped</td>\n",
       "      <td>NULL</td>\n",
       "      <td>363</td>\n",
       "      <td>[{'productCode': 'S18_1749', 'quantityOrdered'...</td>\n",
       "    </tr>\n",
       "    <tr>\n",
       "      <th>1</th>\n",
       "      <td>10101</td>\n",
       "      <td>2003/1/9 0:00:00</td>\n",
       "      <td>2003/1/18 0:00:00</td>\n",
       "      <td>2003/1/11 0:00:00</td>\n",
       "      <td>Shipped</td>\n",
       "      <td>Check on availability.</td>\n",
       "      <td>128</td>\n",
       "      <td>[{'productCode': 'S18_2325', 'quantityOrdered'...</td>\n",
       "    </tr>\n",
       "    <tr>\n",
       "      <th>2</th>\n",
       "      <td>10102</td>\n",
       "      <td>2003/1/10 0:00:00</td>\n",
       "      <td>2003/1/18 0:00:00</td>\n",
       "      <td>2003/1/14 0:00:00</td>\n",
       "      <td>Shipped</td>\n",
       "      <td>NULL</td>\n",
       "      <td>181</td>\n",
       "      <td>[{'productCode': 'S18_1342', 'quantityOrdered'...</td>\n",
       "    </tr>\n",
       "    <tr>\n",
       "      <th>3</th>\n",
       "      <td>10103</td>\n",
       "      <td>2003/1/29 0:00:00</td>\n",
       "      <td>2003/2/7 0:00:00</td>\n",
       "      <td>2003/2/2 0:00:00</td>\n",
       "      <td>Shipped</td>\n",
       "      <td>NULL</td>\n",
       "      <td>121</td>\n",
       "      <td>[{'productCode': 'S10_1949', 'quantityOrdered'...</td>\n",
       "    </tr>\n",
       "    <tr>\n",
       "      <th>4</th>\n",
       "      <td>10104</td>\n",
       "      <td>2003/1/31 0:00:00</td>\n",
       "      <td>2003/2/9 0:00:00</td>\n",
       "      <td>2003/2/1 0:00:00</td>\n",
       "      <td>Shipped</td>\n",
       "      <td>NULL</td>\n",
       "      <td>141</td>\n",
       "      <td>[{'productCode': 'S12_3148', 'quantityOrdered'...</td>\n",
       "    </tr>\n",
       "  </tbody>\n",
       "</table>\n",
       "</div>"
      ],
      "text/plain": [
       "   orderNumber          orderDate       requiredDate        shippedDate  \\\n",
       "0        10100   2003/1/6 0:00:00  2003/1/13 0:00:00  2003/1/10 0:00:00   \n",
       "1        10101   2003/1/9 0:00:00  2003/1/18 0:00:00  2003/1/11 0:00:00   \n",
       "2        10102  2003/1/10 0:00:00  2003/1/18 0:00:00  2003/1/14 0:00:00   \n",
       "3        10103  2003/1/29 0:00:00   2003/2/7 0:00:00   2003/2/2 0:00:00   \n",
       "4        10104  2003/1/31 0:00:00   2003/2/9 0:00:00   2003/2/1 0:00:00   \n",
       "\n",
       "    status                comments  customerNumber  \\\n",
       "0  Shipped                    NULL             363   \n",
       "1  Shipped  Check on availability.             128   \n",
       "2  Shipped                    NULL             181   \n",
       "3  Shipped                    NULL             121   \n",
       "4  Shipped                    NULL             141   \n",
       "\n",
       "                                        orderDetails  \n",
       "0  [{'productCode': 'S18_1749', 'quantityOrdered'...  \n",
       "1  [{'productCode': 'S18_2325', 'quantityOrdered'...  \n",
       "2  [{'productCode': 'S18_1342', 'quantityOrdered'...  \n",
       "3  [{'productCode': 'S10_1949', 'quantityOrdered'...  \n",
       "4  [{'productCode': 'S12_3148', 'quantityOrdered'...  "
      ]
     },
     "execution_count": 39,
     "metadata": {},
     "output_type": "execute_result"
    }
   ],
   "source": [
    "# Chargement des données depuis SQLite\n",
    "orders = pd.read_sql_query(\"SELECT * FROM Orders;\", conn)\n",
    "order_details = pd.read_sql_query(\"SELECT * FROM OrderDetails;\", conn)\n",
    "products = pd.read_sql_query(\"SELECT * FROM Products;\", conn)\n",
    "\n",
    "# Ajout des produits dans les détails des commandes\n",
    "product = [\n",
    "    products.query('productCode == @code').to_dict(orient=\"records\") \n",
    "    for code in order_details.productCode\n",
    "]\n",
    "order_details = order_details.assign(product=product)\n",
    "\n",
    "# Regroupement des détails des commandes par numéro de commande\n",
    "orderdetail = [\n",
    "    order_details.query('orderNumber == @id')\n",
    "    .drop(columns=[\"orderNumber\"])\n",
    "    .to_dict(orient=\"records\") \n",
    "    for id in orders.orderNumber\n",
    "]\n",
    "\n",
    "# Ajout des détails des commandes groupés à la table Orders\n",
    "orders = orders.assign(orderDetails=orderdetail)\n",
    "\n",
    "# Insertion des données dans MongoDB\n",
    "db.order.insert_many(orders.to_dict(orient=\"records\"))\n",
    "\n",
    "# Vérification des résultats\n",
    "orders.head()"
   ]
  },
  {
   "cell_type": "markdown",
   "id": "ced5d7a1-40f2-47cc-80c3-7a7162bfaaef",
   "metadata": {},
   "source": [
    "### Migration des tables Employes et Offices"
   ]
  },
  {
   "cell_type": "code",
   "execution_count": 40,
   "id": "7d56fbaa-ab6b-4e28-b172-eb257831367b",
   "metadata": {},
   "outputs": [
    {
     "name": "stdout",
     "output_type": "stream",
     "text": [
      "[[{'city': 'San Francisco', 'phone': '+1 650 219 4782', 'addressLine1': '100 Market Street', 'addressLine2': 'Suite 300', 'state': 'CA', 'country': 'USA', 'postalCode': '94080', 'territory': None}], [{'city': 'San Francisco', 'phone': '+1 650 219 4782', 'addressLine1': '100 Market Street', 'addressLine2': 'Suite 300', 'state': 'CA', 'country': 'USA', 'postalCode': '94080', 'territory': None}], [{'city': 'San Francisco', 'phone': '+1 650 219 4782', 'addressLine1': '100 Market Street', 'addressLine2': 'Suite 300', 'state': 'CA', 'country': 'USA', 'postalCode': '94080', 'territory': None}], [{'city': 'Sydney', 'phone': '+61 2 9264 2451', 'addressLine1': '5-11 Wentworth Avenue', 'addressLine2': 'Floor #2', 'state': 'NULL', 'country': 'Australia', 'postalCode': 'NSW 2010', 'territory': 'APAC'}], [{'city': 'Paris', 'phone': '+33 14 723 4404', 'addressLine1': \"43 Rue Jouffroy D'abbans\", 'addressLine2': 'NULL', 'state': None, 'country': 'France', 'postalCode': '75017', 'territory': 'EMEA'}], [{'city': 'San Francisco', 'phone': '+1 650 219 4782', 'addressLine1': '100 Market Street', 'addressLine2': 'Suite 300', 'state': 'CA', 'country': 'USA', 'postalCode': '94080', 'territory': None}], [{'city': 'San Francisco', 'phone': '+1 650 219 4782', 'addressLine1': '100 Market Street', 'addressLine2': 'Suite 300', 'state': 'CA', 'country': 'USA', 'postalCode': '94080', 'territory': None}], [{'city': 'San Francisco', 'phone': '+1 650 219 4782', 'addressLine1': '100 Market Street', 'addressLine2': 'Suite 300', 'state': 'CA', 'country': 'USA', 'postalCode': '94080', 'territory': None}], [{'city': 'Boston', 'phone': '+1 215 837 0825', 'addressLine1': '1550 Court Place', 'addressLine2': 'Suite 102', 'state': 'MA', 'country': 'USA', 'postalCode': '02107', 'territory': None}], [{'city': 'Boston', 'phone': '+1 215 837 0825', 'addressLine1': '1550 Court Place', 'addressLine2': 'Suite 102', 'state': 'MA', 'country': 'USA', 'postalCode': '02107', 'territory': None}], [{'city': 'NYC', 'phone': '+1 212 555 3000', 'addressLine1': '523 East 53rd Street', 'addressLine2': 'apt. 5A', 'state': 'NY', 'country': 'USA', 'postalCode': '10022', 'territory': None}], [{'city': 'NYC', 'phone': '+1 212 555 3000', 'addressLine1': '523 East 53rd Street', 'addressLine2': 'apt. 5A', 'state': 'NY', 'country': 'USA', 'postalCode': '10022', 'territory': None}], [{'city': 'Paris', 'phone': '+33 14 723 4404', 'addressLine1': \"43 Rue Jouffroy D'abbans\", 'addressLine2': 'NULL', 'state': None, 'country': 'France', 'postalCode': '75017', 'territory': 'EMEA'}], [{'city': 'Paris', 'phone': '+33 14 723 4404', 'addressLine1': \"43 Rue Jouffroy D'abbans\", 'addressLine2': 'NULL', 'state': None, 'country': 'France', 'postalCode': '75017', 'territory': 'EMEA'}], [{'city': 'Paris', 'phone': '+33 14 723 4404', 'addressLine1': \"43 Rue Jouffroy D'abbans\", 'addressLine2': 'NULL', 'state': None, 'country': 'France', 'postalCode': '75017', 'territory': 'EMEA'}], [{'city': 'London', 'phone': '+44 20 7877 2041', 'addressLine1': '25 Old Broad Street', 'addressLine2': 'Level 7', 'state': 'NULL', 'country': 'UK', 'postalCode': 'EC2N 1HN', 'territory': 'EMEA'}], [{'city': 'London', 'phone': '+44 20 7877 2041', 'addressLine1': '25 Old Broad Street', 'addressLine2': 'Level 7', 'state': 'NULL', 'country': 'UK', 'postalCode': 'EC2N 1HN', 'territory': 'EMEA'}], [{'city': 'Sydney', 'phone': '+61 2 9264 2451', 'addressLine1': '5-11 Wentworth Avenue', 'addressLine2': 'Floor #2', 'state': 'NULL', 'country': 'Australia', 'postalCode': 'NSW 2010', 'territory': 'APAC'}], [{'city': 'Sydney', 'phone': '+61 2 9264 2451', 'addressLine1': '5-11 Wentworth Avenue', 'addressLine2': 'Floor #2', 'state': 'NULL', 'country': 'Australia', 'postalCode': 'NSW 2010', 'territory': 'APAC'}], [{'city': 'Sydney', 'phone': '+61 2 9264 2451', 'addressLine1': '5-11 Wentworth Avenue', 'addressLine2': 'Floor #2', 'state': 'NULL', 'country': 'Australia', 'postalCode': 'NSW 2010', 'territory': 'APAC'}], [{'city': 'Tokyo', 'phone': '+81 33 224 5000', 'addressLine1': '4-1 Kioicho', 'addressLine2': 'NULL', 'state': 'Chiyoda-Ku', 'country': 'Japan', 'postalCode': '102-8578', 'territory': 'Japan'}], [{'city': 'Tokyo', 'phone': '+81 33 224 5000', 'addressLine1': '4-1 Kioicho', 'addressLine2': 'NULL', 'state': 'Chiyoda-Ku', 'country': 'Japan', 'postalCode': '102-8578', 'territory': 'Japan'}], [{'city': 'Paris', 'phone': '+33 14 723 4404', 'addressLine1': \"43 Rue Jouffroy D'abbans\", 'addressLine2': 'NULL', 'state': None, 'country': 'France', 'postalCode': '75017', 'territory': 'EMEA'}]]\n"
     ]
    }
   ],
   "source": [
    "# Chargement des données depuis SQLite\n",
    "employees = pd.read_sql_query(\"SELECT * FROM Employees;\", conn)\n",
    "offices = pd.read_sql_query(\"SELECT * FROM Offices;\", conn)\n",
    "\n",
    "office = [\n",
    "    offices.query('officeCode == @id')\n",
    "        .drop(columns = [\"officeCode\"])\n",
    "        .to_dict(orient = \"records\") \n",
    "        for id in employees.officeCode\n",
    "]\n",
    "\n",
    "# Vérification des résultats\n",
    "print(office)"
   ]
  },
  {
   "cell_type": "code",
   "execution_count": 41,
   "id": "d9da0769-c7f0-4e49-9296-a2b14a75c049",
   "metadata": {},
   "outputs": [
    {
     "data": {
      "text/html": [
       "<div>\n",
       "<style scoped>\n",
       "    .dataframe tbody tr th:only-of-type {\n",
       "        vertical-align: middle;\n",
       "    }\n",
       "\n",
       "    .dataframe tbody tr th {\n",
       "        vertical-align: top;\n",
       "    }\n",
       "\n",
       "    .dataframe thead th {\n",
       "        text-align: right;\n",
       "    }\n",
       "</style>\n",
       "<table border=\"1\" class=\"dataframe\">\n",
       "  <thead>\n",
       "    <tr style=\"text-align: right;\">\n",
       "      <th></th>\n",
       "      <th>employeeNumber</th>\n",
       "      <th>lastName</th>\n",
       "      <th>firstName</th>\n",
       "      <th>extension</th>\n",
       "      <th>email</th>\n",
       "      <th>officeCode</th>\n",
       "      <th>reportsTo</th>\n",
       "      <th>jobTitle</th>\n",
       "      <th>offices</th>\n",
       "    </tr>\n",
       "  </thead>\n",
       "  <tbody>\n",
       "    <tr>\n",
       "      <th>0</th>\n",
       "      <td>1002</td>\n",
       "      <td>Murphy</td>\n",
       "      <td>Diane</td>\n",
       "      <td>x5800</td>\n",
       "      <td>dmurphy@classicmodelcars.com</td>\n",
       "      <td>1.0</td>\n",
       "      <td>NULL</td>\n",
       "      <td>President</td>\n",
       "      <td>[{'city': 'San Francisco', 'phone': '+1 650 21...</td>\n",
       "    </tr>\n",
       "    <tr>\n",
       "      <th>1</th>\n",
       "      <td>1056</td>\n",
       "      <td>Patterson</td>\n",
       "      <td>Mary</td>\n",
       "      <td>x4611</td>\n",
       "      <td>mpatterso@classicmodelcars.com</td>\n",
       "      <td>1.0</td>\n",
       "      <td>1002</td>\n",
       "      <td>VP Sales</td>\n",
       "      <td>[{'city': 'San Francisco', 'phone': '+1 650 21...</td>\n",
       "    </tr>\n",
       "    <tr>\n",
       "      <th>2</th>\n",
       "      <td>1076</td>\n",
       "      <td>Firrelli</td>\n",
       "      <td>Jeff</td>\n",
       "      <td>x9273</td>\n",
       "      <td>jfirrelli@classicmodelcars.com</td>\n",
       "      <td>1.0</td>\n",
       "      <td>1002</td>\n",
       "      <td>VP Marketing</td>\n",
       "      <td>[{'city': 'San Francisco', 'phone': '+1 650 21...</td>\n",
       "    </tr>\n",
       "    <tr>\n",
       "      <th>3</th>\n",
       "      <td>1088</td>\n",
       "      <td>Patterson</td>\n",
       "      <td>William</td>\n",
       "      <td>x4871</td>\n",
       "      <td>wpatterson@classicmodelcars.com</td>\n",
       "      <td>6.0</td>\n",
       "      <td>1056</td>\n",
       "      <td>Sales Manager (JAPAN, APAC)</td>\n",
       "      <td>[{'city': 'Sydney', 'phone': '+61 2 9264 2451'...</td>\n",
       "    </tr>\n",
       "    <tr>\n",
       "      <th>4</th>\n",
       "      <td>1102</td>\n",
       "      <td>Bondur</td>\n",
       "      <td>Gerard</td>\n",
       "      <td>x5408</td>\n",
       "      <td>athompson@classicmodelcars.com</td>\n",
       "      <td>4.0</td>\n",
       "      <td>1056</td>\n",
       "      <td>Sale Manager (EMEA)</td>\n",
       "      <td>[{'city': 'Paris', 'phone': '+33 14 723 4404',...</td>\n",
       "    </tr>\n",
       "  </tbody>\n",
       "</table>\n",
       "</div>"
      ],
      "text/plain": [
       "   employeeNumber   lastName firstName extension  \\\n",
       "0            1002     Murphy     Diane     x5800   \n",
       "1            1056  Patterson      Mary     x4611   \n",
       "2            1076   Firrelli      Jeff     x9273   \n",
       "3            1088  Patterson   William     x4871   \n",
       "4            1102     Bondur    Gerard     x5408   \n",
       "\n",
       "                             email officeCode reportsTo  \\\n",
       "0     dmurphy@classicmodelcars.com        1.0      NULL   \n",
       "1   mpatterso@classicmodelcars.com        1.0      1002   \n",
       "2   jfirrelli@classicmodelcars.com        1.0      1002   \n",
       "3  wpatterson@classicmodelcars.com        6.0      1056   \n",
       "4   athompson@classicmodelcars.com        4.0      1056   \n",
       "\n",
       "                      jobTitle  \\\n",
       "0                    President   \n",
       "1                     VP Sales   \n",
       "2                 VP Marketing   \n",
       "3  Sales Manager (JAPAN, APAC)   \n",
       "4          Sale Manager (EMEA)   \n",
       "\n",
       "                                             offices  \n",
       "0  [{'city': 'San Francisco', 'phone': '+1 650 21...  \n",
       "1  [{'city': 'San Francisco', 'phone': '+1 650 21...  \n",
       "2  [{'city': 'San Francisco', 'phone': '+1 650 21...  \n",
       "3  [{'city': 'Sydney', 'phone': '+61 2 9264 2451'...  \n",
       "4  [{'city': 'Paris', 'phone': '+33 14 723 4404',...  "
      ]
     },
     "execution_count": 41,
     "metadata": {},
     "output_type": "execute_result"
    }
   ],
   "source": [
    "# Ajout de la colonne office\n",
    "employee = employees.assign(offices= office)\n",
    "\n",
    "# Vérification des résultats\n",
    "employee.head()"
   ]
  },
  {
   "cell_type": "code",
   "execution_count": 42,
   "id": "b31637cf-8cbc-43f9-a7a1-ecd9cdbd3753",
   "metadata": {},
   "outputs": [
    {
     "data": {
      "text/plain": [
       "InsertManyResult([ObjectId('67672ffd5283ed5716b47348'), ObjectId('67672ffd5283ed5716b47349'), ObjectId('67672ffd5283ed5716b4734a'), ObjectId('67672ffd5283ed5716b4734b'), ObjectId('67672ffd5283ed5716b4734c'), ObjectId('67672ffd5283ed5716b4734d'), ObjectId('67672ffd5283ed5716b4734e'), ObjectId('67672ffd5283ed5716b4734f'), ObjectId('67672ffd5283ed5716b47350'), ObjectId('67672ffd5283ed5716b47351'), ObjectId('67672ffd5283ed5716b47352'), ObjectId('67672ffd5283ed5716b47353'), ObjectId('67672ffd5283ed5716b47354'), ObjectId('67672ffd5283ed5716b47355'), ObjectId('67672ffd5283ed5716b47356'), ObjectId('67672ffd5283ed5716b47357'), ObjectId('67672ffd5283ed5716b47358'), ObjectId('67672ffd5283ed5716b47359'), ObjectId('67672ffd5283ed5716b4735a'), ObjectId('67672ffd5283ed5716b4735b'), ObjectId('67672ffd5283ed5716b4735c'), ObjectId('67672ffd5283ed5716b4735d'), ObjectId('67672ffd5283ed5716b4735e')], acknowledged=True)"
      ]
     },
     "execution_count": 42,
     "metadata": {},
     "output_type": "execute_result"
    }
   ],
   "source": [
    "# Insertion de la table employee dans mongoDB\n",
    "db.employee.insert_many(\n",
    "    employee.to_dict(orient = \"records\")\n",
    ")"
   ]
  },
  {
   "cell_type": "markdown",
   "id": "d7221988-ef14-4219-ab63-9023700f8e8a",
   "metadata": {},
   "source": [
    "### Migration de la table Payments"
   ]
  },
  {
   "cell_type": "code",
   "execution_count": 43,
   "id": "0898a3bc-8bbe-42c3-bf94-ec0f898b3c7e",
   "metadata": {},
   "outputs": [
    {
     "data": {
      "text/html": [
       "<div>\n",
       "<style scoped>\n",
       "    .dataframe tbody tr th:only-of-type {\n",
       "        vertical-align: middle;\n",
       "    }\n",
       "\n",
       "    .dataframe tbody tr th {\n",
       "        vertical-align: top;\n",
       "    }\n",
       "\n",
       "    .dataframe thead th {\n",
       "        text-align: right;\n",
       "    }\n",
       "</style>\n",
       "<table border=\"1\" class=\"dataframe\">\n",
       "  <thead>\n",
       "    <tr style=\"text-align: right;\">\n",
       "      <th></th>\n",
       "      <th>customerNumber</th>\n",
       "      <th>checkNumber</th>\n",
       "      <th>paymentDate</th>\n",
       "      <th>amount</th>\n",
       "    </tr>\n",
       "  </thead>\n",
       "  <tbody>\n",
       "    <tr>\n",
       "      <th>0</th>\n",
       "      <td>103</td>\n",
       "      <td>HQ336336</td>\n",
       "      <td>2004/10/19 0:00:00</td>\n",
       "      <td>5307.98</td>\n",
       "    </tr>\n",
       "    <tr>\n",
       "      <th>1</th>\n",
       "      <td>103</td>\n",
       "      <td>JM555205</td>\n",
       "      <td>2003/6/5 0:00:00</td>\n",
       "      <td>16560.30</td>\n",
       "    </tr>\n",
       "    <tr>\n",
       "      <th>2</th>\n",
       "      <td>103</td>\n",
       "      <td>OM314933</td>\n",
       "      <td>2004/12/18 0:00:00</td>\n",
       "      <td>2311.68</td>\n",
       "    </tr>\n",
       "    <tr>\n",
       "      <th>3</th>\n",
       "      <td>112</td>\n",
       "      <td>BO864823</td>\n",
       "      <td>2004/12/17 0:00:00</td>\n",
       "      <td>14449.61</td>\n",
       "    </tr>\n",
       "    <tr>\n",
       "      <th>4</th>\n",
       "      <td>112</td>\n",
       "      <td>HQ55022</td>\n",
       "      <td>2003/6/6 0:00:00</td>\n",
       "      <td>33847.62</td>\n",
       "    </tr>\n",
       "  </tbody>\n",
       "</table>\n",
       "</div>"
      ],
      "text/plain": [
       "   customerNumber checkNumber         paymentDate    amount\n",
       "0             103    HQ336336  2004/10/19 0:00:00   5307.98\n",
       "1             103    JM555205    2003/6/5 0:00:00  16560.30\n",
       "2             103    OM314933  2004/12/18 0:00:00   2311.68\n",
       "3             112    BO864823  2004/12/17 0:00:00  14449.61\n",
       "4             112     HQ55022    2003/6/6 0:00:00  33847.62"
      ]
     },
     "execution_count": 43,
     "metadata": {},
     "output_type": "execute_result"
    }
   ],
   "source": [
    "# Chargement des données depuis SQLite\n",
    "payments = pd.read_sql_query(\"SELECT * FROM Payments;\", conn)\n",
    "\n",
    "# Convertion en dictionnaires\n",
    "payments.to_dict(orient = \"records\") \n",
    "\n",
    "# Vérification des résultats\n",
    "payments.head()"
   ]
  },
  {
   "cell_type": "code",
   "execution_count": 44,
   "id": "0e17cbe3",
   "metadata": {},
   "outputs": [
    {
     "data": {
      "text/plain": [
       "InsertManyResult([ObjectId('676730055283ed5716b4735f'), ObjectId('676730055283ed5716b47360'), ObjectId('676730055283ed5716b47361'), ObjectId('676730055283ed5716b47362'), ObjectId('676730055283ed5716b47363'), ObjectId('676730055283ed5716b47364'), ObjectId('676730055283ed5716b47365'), ObjectId('676730055283ed5716b47366'), ObjectId('676730055283ed5716b47367'), ObjectId('676730055283ed5716b47368'), ObjectId('676730055283ed5716b47369'), ObjectId('676730055283ed5716b4736a'), ObjectId('676730055283ed5716b4736b'), ObjectId('676730055283ed5716b4736c'), ObjectId('676730055283ed5716b4736d'), ObjectId('676730055283ed5716b4736e'), ObjectId('676730055283ed5716b4736f'), ObjectId('676730055283ed5716b47370'), ObjectId('676730055283ed5716b47371'), ObjectId('676730055283ed5716b47372'), ObjectId('676730055283ed5716b47373'), ObjectId('676730055283ed5716b47374'), ObjectId('676730055283ed5716b47375'), ObjectId('676730055283ed5716b47376'), ObjectId('676730055283ed5716b47377'), ObjectId('676730055283ed5716b47378'), ObjectId('676730055283ed5716b47379'), ObjectId('676730055283ed5716b4737a'), ObjectId('676730055283ed5716b4737b'), ObjectId('676730055283ed5716b4737c'), ObjectId('676730055283ed5716b4737d'), ObjectId('676730055283ed5716b4737e'), ObjectId('676730055283ed5716b4737f'), ObjectId('676730055283ed5716b47380'), ObjectId('676730055283ed5716b47381'), ObjectId('676730055283ed5716b47382'), ObjectId('676730055283ed5716b47383'), ObjectId('676730055283ed5716b47384'), ObjectId('676730055283ed5716b47385'), ObjectId('676730055283ed5716b47386'), ObjectId('676730055283ed5716b47387'), ObjectId('676730055283ed5716b47388'), ObjectId('676730055283ed5716b47389'), ObjectId('676730055283ed5716b4738a'), ObjectId('676730055283ed5716b4738b'), ObjectId('676730055283ed5716b4738c'), ObjectId('676730055283ed5716b4738d'), ObjectId('676730055283ed5716b4738e'), ObjectId('676730055283ed5716b4738f'), ObjectId('676730055283ed5716b47390'), ObjectId('676730055283ed5716b47391'), ObjectId('676730055283ed5716b47392'), ObjectId('676730055283ed5716b47393'), ObjectId('676730055283ed5716b47394'), ObjectId('676730055283ed5716b47395'), ObjectId('676730055283ed5716b47396'), ObjectId('676730055283ed5716b47397'), ObjectId('676730055283ed5716b47398'), ObjectId('676730055283ed5716b47399'), ObjectId('676730055283ed5716b4739a'), ObjectId('676730055283ed5716b4739b'), ObjectId('676730055283ed5716b4739c'), ObjectId('676730055283ed5716b4739d'), ObjectId('676730055283ed5716b4739e'), ObjectId('676730055283ed5716b4739f'), ObjectId('676730055283ed5716b473a0'), ObjectId('676730055283ed5716b473a1'), ObjectId('676730055283ed5716b473a2'), ObjectId('676730055283ed5716b473a3'), ObjectId('676730055283ed5716b473a4'), ObjectId('676730055283ed5716b473a5'), ObjectId('676730055283ed5716b473a6'), ObjectId('676730055283ed5716b473a7'), ObjectId('676730055283ed5716b473a8'), ObjectId('676730055283ed5716b473a9'), ObjectId('676730055283ed5716b473aa'), ObjectId('676730055283ed5716b473ab'), ObjectId('676730055283ed5716b473ac'), ObjectId('676730055283ed5716b473ad'), ObjectId('676730055283ed5716b473ae'), ObjectId('676730055283ed5716b473af'), ObjectId('676730055283ed5716b473b0'), ObjectId('676730055283ed5716b473b1'), ObjectId('676730055283ed5716b473b2'), ObjectId('676730055283ed5716b473b3'), ObjectId('676730055283ed5716b473b4'), ObjectId('676730055283ed5716b473b5'), ObjectId('676730055283ed5716b473b6'), ObjectId('676730055283ed5716b473b7'), ObjectId('676730055283ed5716b473b8'), ObjectId('676730055283ed5716b473b9'), ObjectId('676730055283ed5716b473ba'), ObjectId('676730055283ed5716b473bb'), ObjectId('676730055283ed5716b473bc'), ObjectId('676730055283ed5716b473bd'), ObjectId('676730055283ed5716b473be'), ObjectId('676730055283ed5716b473bf'), ObjectId('676730055283ed5716b473c0'), ObjectId('676730055283ed5716b473c1'), ObjectId('676730055283ed5716b473c2'), ObjectId('676730055283ed5716b473c3'), ObjectId('676730055283ed5716b473c4'), ObjectId('676730055283ed5716b473c5'), ObjectId('676730055283ed5716b473c6'), ObjectId('676730055283ed5716b473c7'), ObjectId('676730055283ed5716b473c8'), ObjectId('676730055283ed5716b473c9'), ObjectId('676730055283ed5716b473ca'), ObjectId('676730055283ed5716b473cb'), ObjectId('676730055283ed5716b473cc'), ObjectId('676730055283ed5716b473cd'), ObjectId('676730055283ed5716b473ce'), ObjectId('676730055283ed5716b473cf'), ObjectId('676730055283ed5716b473d0'), ObjectId('676730055283ed5716b473d1'), ObjectId('676730055283ed5716b473d2'), ObjectId('676730055283ed5716b473d3'), ObjectId('676730055283ed5716b473d4'), ObjectId('676730055283ed5716b473d5'), ObjectId('676730055283ed5716b473d6'), ObjectId('676730055283ed5716b473d7'), ObjectId('676730055283ed5716b473d8'), ObjectId('676730055283ed5716b473d9'), ObjectId('676730055283ed5716b473da'), ObjectId('676730055283ed5716b473db'), ObjectId('676730055283ed5716b473dc'), ObjectId('676730055283ed5716b473dd'), ObjectId('676730055283ed5716b473de'), ObjectId('676730055283ed5716b473df'), ObjectId('676730055283ed5716b473e0'), ObjectId('676730055283ed5716b473e1'), ObjectId('676730055283ed5716b473e2'), ObjectId('676730055283ed5716b473e3'), ObjectId('676730055283ed5716b473e4'), ObjectId('676730055283ed5716b473e5'), ObjectId('676730055283ed5716b473e6'), ObjectId('676730055283ed5716b473e7'), ObjectId('676730055283ed5716b473e8'), ObjectId('676730055283ed5716b473e9'), ObjectId('676730055283ed5716b473ea'), ObjectId('676730055283ed5716b473eb'), ObjectId('676730055283ed5716b473ec'), ObjectId('676730055283ed5716b473ed'), ObjectId('676730055283ed5716b473ee'), ObjectId('676730055283ed5716b473ef'), ObjectId('676730055283ed5716b473f0'), ObjectId('676730055283ed5716b473f1'), ObjectId('676730055283ed5716b473f2'), ObjectId('676730055283ed5716b473f3'), ObjectId('676730055283ed5716b473f4'), ObjectId('676730055283ed5716b473f5'), ObjectId('676730055283ed5716b473f6'), ObjectId('676730055283ed5716b473f7'), ObjectId('676730055283ed5716b473f8'), ObjectId('676730055283ed5716b473f9'), ObjectId('676730055283ed5716b473fa'), ObjectId('676730055283ed5716b473fb'), ObjectId('676730055283ed5716b473fc'), ObjectId('676730055283ed5716b473fd'), ObjectId('676730055283ed5716b473fe'), ObjectId('676730055283ed5716b473ff'), ObjectId('676730055283ed5716b47400'), ObjectId('676730055283ed5716b47401'), ObjectId('676730055283ed5716b47402'), ObjectId('676730055283ed5716b47403'), ObjectId('676730055283ed5716b47404'), ObjectId('676730055283ed5716b47405'), ObjectId('676730055283ed5716b47406'), ObjectId('676730055283ed5716b47407'), ObjectId('676730055283ed5716b47408'), ObjectId('676730055283ed5716b47409'), ObjectId('676730055283ed5716b4740a'), ObjectId('676730055283ed5716b4740b'), ObjectId('676730055283ed5716b4740c'), ObjectId('676730055283ed5716b4740d'), ObjectId('676730055283ed5716b4740e'), ObjectId('676730055283ed5716b4740f'), ObjectId('676730055283ed5716b47410'), ObjectId('676730055283ed5716b47411'), ObjectId('676730055283ed5716b47412'), ObjectId('676730055283ed5716b47413'), ObjectId('676730055283ed5716b47414'), ObjectId('676730055283ed5716b47415'), ObjectId('676730055283ed5716b47416'), ObjectId('676730055283ed5716b47417'), ObjectId('676730055283ed5716b47418'), ObjectId('676730055283ed5716b47419'), ObjectId('676730055283ed5716b4741a'), ObjectId('676730055283ed5716b4741b'), ObjectId('676730055283ed5716b4741c'), ObjectId('676730055283ed5716b4741d'), ObjectId('676730055283ed5716b4741e'), ObjectId('676730055283ed5716b4741f'), ObjectId('676730055283ed5716b47420'), ObjectId('676730055283ed5716b47421'), ObjectId('676730055283ed5716b47422'), ObjectId('676730055283ed5716b47423'), ObjectId('676730055283ed5716b47424'), ObjectId('676730055283ed5716b47425'), ObjectId('676730055283ed5716b47426'), ObjectId('676730055283ed5716b47427'), ObjectId('676730055283ed5716b47428'), ObjectId('676730055283ed5716b47429'), ObjectId('676730055283ed5716b4742a'), ObjectId('676730055283ed5716b4742b'), ObjectId('676730055283ed5716b4742c'), ObjectId('676730055283ed5716b4742d'), ObjectId('676730055283ed5716b4742e'), ObjectId('676730055283ed5716b4742f'), ObjectId('676730055283ed5716b47430'), ObjectId('676730055283ed5716b47431'), ObjectId('676730055283ed5716b47432'), ObjectId('676730055283ed5716b47433'), ObjectId('676730055283ed5716b47434'), ObjectId('676730055283ed5716b47435'), ObjectId('676730055283ed5716b47436'), ObjectId('676730055283ed5716b47437'), ObjectId('676730055283ed5716b47438'), ObjectId('676730055283ed5716b47439'), ObjectId('676730055283ed5716b4743a'), ObjectId('676730055283ed5716b4743b'), ObjectId('676730055283ed5716b4743c'), ObjectId('676730055283ed5716b4743d'), ObjectId('676730055283ed5716b4743e'), ObjectId('676730055283ed5716b4743f'), ObjectId('676730055283ed5716b47440'), ObjectId('676730055283ed5716b47441'), ObjectId('676730055283ed5716b47442'), ObjectId('676730055283ed5716b47443'), ObjectId('676730055283ed5716b47444'), ObjectId('676730055283ed5716b47445'), ObjectId('676730055283ed5716b47446'), ObjectId('676730055283ed5716b47447'), ObjectId('676730055283ed5716b47448'), ObjectId('676730055283ed5716b47449'), ObjectId('676730055283ed5716b4744a'), ObjectId('676730055283ed5716b4744b'), ObjectId('676730055283ed5716b4744c'), ObjectId('676730055283ed5716b4744d'), ObjectId('676730055283ed5716b4744e'), ObjectId('676730055283ed5716b4744f'), ObjectId('676730055283ed5716b47450'), ObjectId('676730055283ed5716b47451'), ObjectId('676730055283ed5716b47452'), ObjectId('676730055283ed5716b47453'), ObjectId('676730055283ed5716b47454'), ObjectId('676730055283ed5716b47455'), ObjectId('676730055283ed5716b47456'), ObjectId('676730055283ed5716b47457'), ObjectId('676730055283ed5716b47458'), ObjectId('676730055283ed5716b47459'), ObjectId('676730055283ed5716b4745a'), ObjectId('676730055283ed5716b4745b'), ObjectId('676730055283ed5716b4745c'), ObjectId('676730055283ed5716b4745d'), ObjectId('676730055283ed5716b4745e'), ObjectId('676730055283ed5716b4745f'), ObjectId('676730055283ed5716b47460'), ObjectId('676730055283ed5716b47461'), ObjectId('676730055283ed5716b47462'), ObjectId('676730055283ed5716b47463'), ObjectId('676730055283ed5716b47464'), ObjectId('676730055283ed5716b47465'), ObjectId('676730055283ed5716b47466'), ObjectId('676730055283ed5716b47467'), ObjectId('676730055283ed5716b47468'), ObjectId('676730055283ed5716b47469'), ObjectId('676730055283ed5716b4746a'), ObjectId('676730055283ed5716b4746b'), ObjectId('676730055283ed5716b4746c'), ObjectId('676730055283ed5716b4746d'), ObjectId('676730055283ed5716b4746e')], acknowledged=True)"
      ]
     },
     "execution_count": 44,
     "metadata": {},
     "output_type": "execute_result"
    }
   ],
   "source": [
    "# Insertion de la table payments dans mongoDB\n",
    "db.payments.insert_many(payments.to_dict(orient = \"records\") )"
   ]
  },
  {
   "cell_type": "markdown",
   "id": "9fe1473d-379a-4340-aa6b-b13912efe573",
   "metadata": {},
   "source": [
    "### Migration de la table Customers"
   ]
  },
  {
   "cell_type": "code",
   "execution_count": 46,
   "id": "c2a32af5-ca3f-4ef1-88e0-b6fff1933ec7",
   "metadata": {},
   "outputs": [
    {
     "data": {
      "text/plain": [
       "InsertManyResult([ObjectId('676730645283ed5716b4746f'), ObjectId('676730645283ed5716b47470'), ObjectId('676730645283ed5716b47471'), ObjectId('676730645283ed5716b47472'), ObjectId('676730645283ed5716b47473'), ObjectId('676730645283ed5716b47474'), ObjectId('676730645283ed5716b47475'), ObjectId('676730645283ed5716b47476'), ObjectId('676730645283ed5716b47477'), ObjectId('676730645283ed5716b47478'), ObjectId('676730645283ed5716b47479'), ObjectId('676730645283ed5716b4747a'), ObjectId('676730645283ed5716b4747b'), ObjectId('676730645283ed5716b4747c'), ObjectId('676730645283ed5716b4747d'), ObjectId('676730645283ed5716b4747e'), ObjectId('676730645283ed5716b4747f'), ObjectId('676730645283ed5716b47480'), ObjectId('676730645283ed5716b47481'), ObjectId('676730645283ed5716b47482'), ObjectId('676730645283ed5716b47483'), ObjectId('676730645283ed5716b47484'), ObjectId('676730645283ed5716b47485'), ObjectId('676730645283ed5716b47486'), ObjectId('676730645283ed5716b47487'), ObjectId('676730645283ed5716b47488'), ObjectId('676730645283ed5716b47489'), ObjectId('676730645283ed5716b4748a'), ObjectId('676730645283ed5716b4748b'), ObjectId('676730645283ed5716b4748c'), ObjectId('676730645283ed5716b4748d'), ObjectId('676730645283ed5716b4748e'), ObjectId('676730645283ed5716b4748f'), ObjectId('676730645283ed5716b47490'), ObjectId('676730645283ed5716b47491'), ObjectId('676730645283ed5716b47492'), ObjectId('676730645283ed5716b47493'), ObjectId('676730645283ed5716b47494'), ObjectId('676730645283ed5716b47495'), ObjectId('676730645283ed5716b47496'), ObjectId('676730645283ed5716b47497'), ObjectId('676730645283ed5716b47498'), ObjectId('676730645283ed5716b47499'), ObjectId('676730645283ed5716b4749a'), ObjectId('676730645283ed5716b4749b'), ObjectId('676730645283ed5716b4749c'), ObjectId('676730645283ed5716b4749d'), ObjectId('676730645283ed5716b4749e'), ObjectId('676730645283ed5716b4749f'), ObjectId('676730645283ed5716b474a0'), ObjectId('676730645283ed5716b474a1'), ObjectId('676730645283ed5716b474a2'), ObjectId('676730645283ed5716b474a3'), ObjectId('676730645283ed5716b474a4'), ObjectId('676730645283ed5716b474a5'), ObjectId('676730645283ed5716b474a6'), ObjectId('676730645283ed5716b474a7'), ObjectId('676730645283ed5716b474a8'), ObjectId('676730645283ed5716b474a9'), ObjectId('676730645283ed5716b474aa'), ObjectId('676730645283ed5716b474ab'), ObjectId('676730645283ed5716b474ac'), ObjectId('676730645283ed5716b474ad'), ObjectId('676730645283ed5716b474ae'), ObjectId('676730645283ed5716b474af'), ObjectId('676730645283ed5716b474b0'), ObjectId('676730645283ed5716b474b1'), ObjectId('676730645283ed5716b474b2'), ObjectId('676730645283ed5716b474b3'), ObjectId('676730645283ed5716b474b4'), ObjectId('676730645283ed5716b474b5'), ObjectId('676730645283ed5716b474b6'), ObjectId('676730645283ed5716b474b7'), ObjectId('676730645283ed5716b474b8'), ObjectId('676730645283ed5716b474b9'), ObjectId('676730645283ed5716b474ba'), ObjectId('676730645283ed5716b474bb'), ObjectId('676730645283ed5716b474bc'), ObjectId('676730645283ed5716b474bd'), ObjectId('676730645283ed5716b474be'), ObjectId('676730645283ed5716b474bf'), ObjectId('676730645283ed5716b474c0'), ObjectId('676730645283ed5716b474c1'), ObjectId('676730645283ed5716b474c2'), ObjectId('676730645283ed5716b474c3'), ObjectId('676730645283ed5716b474c4'), ObjectId('676730645283ed5716b474c5'), ObjectId('676730645283ed5716b474c6'), ObjectId('676730645283ed5716b474c7'), ObjectId('676730645283ed5716b474c8'), ObjectId('676730645283ed5716b474c9'), ObjectId('676730645283ed5716b474ca'), ObjectId('676730645283ed5716b474cb'), ObjectId('676730645283ed5716b474cc'), ObjectId('676730645283ed5716b474cd'), ObjectId('676730645283ed5716b474ce'), ObjectId('676730645283ed5716b474cf'), ObjectId('676730645283ed5716b474d0'), ObjectId('676730645283ed5716b474d1'), ObjectId('676730645283ed5716b474d2'), ObjectId('676730645283ed5716b474d3'), ObjectId('676730645283ed5716b474d4'), ObjectId('676730645283ed5716b474d5'), ObjectId('676730645283ed5716b474d6'), ObjectId('676730645283ed5716b474d7'), ObjectId('676730645283ed5716b474d8'), ObjectId('676730645283ed5716b474d9'), ObjectId('676730645283ed5716b474da'), ObjectId('676730645283ed5716b474db'), ObjectId('676730645283ed5716b474dc'), ObjectId('676730645283ed5716b474dd'), ObjectId('676730645283ed5716b474de'), ObjectId('676730645283ed5716b474df'), ObjectId('676730645283ed5716b474e0'), ObjectId('676730645283ed5716b474e1'), ObjectId('676730645283ed5716b474e2'), ObjectId('676730645283ed5716b474e3'), ObjectId('676730645283ed5716b474e4'), ObjectId('676730645283ed5716b474e5'), ObjectId('676730645283ed5716b474e6'), ObjectId('676730645283ed5716b474e7'), ObjectId('676730645283ed5716b474e8')], acknowledged=True)"
      ]
     },
     "execution_count": 46,
     "metadata": {},
     "output_type": "execute_result"
    }
   ],
   "source": [
    "# Chargement des données depuis SQLite\n",
    "customers = pd.read_sql_query(\"SELECT * FROM Customers;\", conn)\n",
    "\n",
    "# Convertion en dictionnaires\n",
    "customers.to_dict(orient = \"records\") \n",
    "\n",
    "# Vérification des résultats\n",
    "customers.head()"
   ]
  },
  {
   "cell_type": "code",
   "execution_count": null,
   "id": "0e3f95eb",
   "metadata": {},
   "outputs": [],
   "source": [
    "# Insertion de la table payments dans mongoDB\n",
    "db.customers.insert_many(customers.to_dict(orient = \"records\") )"
   ]
  }
 ],
 "metadata": {
  "kernelspec": {
   "display_name": "Python 3 (ipykernel)",
   "language": "python",
   "name": "python3"
  },
  "language_info": {
   "codemirror_mode": {
    "name": "ipython",
    "version": 3
   },
   "file_extension": ".py",
   "mimetype": "text/x-python",
   "name": "python",
   "nbconvert_exporter": "python",
   "pygments_lexer": "ipython3",
   "version": "3.11.5"
  }
 },
 "nbformat": 4,
 "nbformat_minor": 5
}
